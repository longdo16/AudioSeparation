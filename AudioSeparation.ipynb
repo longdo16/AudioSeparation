{
  "nbformat": 4,
  "nbformat_minor": 0,
  "metadata": {
    "colab": {
      "provenance": []
    },
    "kernelspec": {
      "name": "python3",
      "display_name": "Python 3"
    },
    "language_info": {
      "name": "python"
    }
  },
  "cells": [
    {
      "cell_type": "markdown",
      "source": [
        "# Clone Github Repo"
      ],
      "metadata": {
        "id": "eAVdP-xrHSRZ"
      }
    },
    {
      "cell_type": "code",
      "execution_count": null,
      "metadata": {
        "id": "oK3Vem3rHNhT"
      },
      "outputs": [],
      "source": [
        "!git clone https://github.com/longdo16/AudioSeparation.git"
      ]
    },
    {
      "cell_type": "code",
      "source": [
        "%cd AudioSeparation/"
      ],
      "metadata": {
        "id": "YeP182O7HXMg"
      },
      "execution_count": null,
      "outputs": []
    },
    {
      "cell_type": "code",
      "source": [
        "!git pull"
      ],
      "metadata": {
        "id": "gaqA27HwHXgb"
      },
      "execution_count": null,
      "outputs": []
    },
    {
      "cell_type": "markdown",
      "source": [
        "# Install Requirements"
      ],
      "metadata": {
        "id": "q4w38q70HZcX"
      }
    },
    {
      "cell_type": "code",
      "source": [
        "!pip install -r requirements.txt"
      ],
      "metadata": {
        "id": "9MIZgQwTHdTM"
      },
      "execution_count": null,
      "outputs": []
    },
    {
      "cell_type": "markdown",
      "source": [
        "# Download Wave-U-Net for Audio Separation Pretrained Model"
      ],
      "metadata": {
        "id": "3yW3tlmcHgOm"
      }
    },
    {
      "cell_type": "code",
      "source": [
        "%cd WaveUNet/checkpoints/\n",
        "!wget https://www.dropbox.com/s/r374hce896g4xlj/models.7z?dl=1\n",
        "!7z e models.7z?dl=1\n",
        "%cd ../.."
      ],
      "metadata": {
        "id": "NhdS73KMHo84"
      },
      "execution_count": null,
      "outputs": []
    },
    {
      "cell_type": "markdown",
      "source": [
        "# Run Code for Every .wav Files in a Directory"
      ],
      "metadata": {
        "id": "_grygbesHrhV"
      }
    },
    {
      "cell_type": "markdown",
      "source": [
        "**Note**: ./data/ is an example directory. Point to a directory that contains all .wav files you want."
      ],
      "metadata": {
        "id": "3VKwPXrpJwYp"
      }
    },
    {
      "cell_type": "markdown",
      "source": [
        "# Independent Component Analysis (ICA)"
      ],
      "metadata": {
        "id": "jNa05H9UIl4w"
      }
    },
    {
      "cell_type": "markdown",
      "source": [
        "**ICA with SS (Spectral Subtraction)**\n",
        "\n",
        "**Note**: Output .wav files are in ./ICA/ICASS/"
      ],
      "metadata": {
        "id": "QX3AWOmLH8aL"
      }
    },
    {
      "cell_type": "code",
      "source": [
        "!python runSeparator.py --run_all 'Y' --directory './data/' --audio_separation 'ICA' --speech_enhancement 'SS'"
      ],
      "metadata": {
        "id": "rnGtCPocIEUo"
      },
      "execution_count": null,
      "outputs": []
    },
    {
      "cell_type": "markdown",
      "source": [
        "**ICA with WF (Wiener Filtering)**\n",
        "\n",
        "**Note**: Output .wav files are in ./ICA/ICAWF/"
      ],
      "metadata": {
        "id": "iZ6397jpIH81"
      }
    },
    {
      "cell_type": "code",
      "source": [
        "!python runSeparator.py --run_all 'Y' --directory './data/' --audio_separation 'ICA' --speech_enhancement 'WF'"
      ],
      "metadata": {
        "id": "W8lICxwSIT7e"
      },
      "execution_count": null,
      "outputs": []
    },
    {
      "cell_type": "markdown",
      "source": [
        "**ICA without Speech Enhancement**\n",
        "\n",
        "**Note**: Output .wav files are in ./ICA/ICANone/"
      ],
      "metadata": {
        "id": "gqyx00XLIVuY"
      }
    },
    {
      "cell_type": "code",
      "source": [
        "!python runSeparator.py --run_all 'Y' --directory './data/' --audio_separation 'ICA' --speech_enhancement 'None'"
      ],
      "metadata": {
        "id": "ocTst2J5IazB"
      },
      "execution_count": null,
      "outputs": []
    },
    {
      "cell_type": "markdown",
      "source": [
        "# Non-negative Matrix Factorization (NMF)"
      ],
      "metadata": {
        "id": "ENWhJU-RIpWH"
      }
    },
    {
      "cell_type": "markdown",
      "source": [
        "**NMF with SS (Spectral Subtraction)**\n",
        "\n",
        "**Note**: Output .wav files are in ./NMF/NMFSS/"
      ],
      "metadata": {
        "id": "PDBOi47xIsuK"
      }
    },
    {
      "cell_type": "code",
      "source": [
        "!python runSeparator.py --run_all 'Y' --directory './data/' --audio_separation 'NMF' --speech_enhancement 'SS'"
      ],
      "metadata": {
        "id": "OJnpdSOcJori"
      },
      "execution_count": null,
      "outputs": []
    },
    {
      "cell_type": "markdown",
      "source": [
        "**ICA with WF (Wiener Filtering)**\n",
        "\n",
        "**Note**: Output .wav files are in ./NMF/NMFWF/"
      ],
      "metadata": {
        "id": "UvgaXfn9Ivn9"
      }
    },
    {
      "cell_type": "code",
      "source": [
        "!python runSeparator.py --run_all 'Y' --directory './data/' --audio_separation 'NMF' --speech_enhancement 'WF'"
      ],
      "metadata": {
        "id": "8jlvjzb_J6_i"
      },
      "execution_count": null,
      "outputs": []
    },
    {
      "cell_type": "markdown",
      "source": [
        "**ICA without Speech Enhancement**\n",
        "\n",
        "**Note**: Output .wav files are in ./NMF/NMFNone/"
      ],
      "metadata": {
        "id": "YkStBNcaIwz5"
      }
    },
    {
      "cell_type": "code",
      "source": [
        "!python runSeparator.py --run_all 'Y' --directory './data/' --audio_separation 'NMF' --speech_enhancement 'None'"
      ],
      "metadata": {
        "id": "Dlf0xYBQJ81M"
      },
      "execution_count": null,
      "outputs": []
    },
    {
      "cell_type": "markdown",
      "source": [
        "# Wave-U-Net (WUN)"
      ],
      "metadata": {
        "id": "zTzeee0kIx5Y"
      }
    },
    {
      "cell_type": "markdown",
      "source": [
        "**WUN with SS (Spectral Subtraction)**\n",
        "\n",
        "**Note**: Output .wav files are in ./WUN/WUNSS/"
      ],
      "metadata": {
        "id": "gBdn6kkkKAyZ"
      }
    },
    {
      "cell_type": "code",
      "source": [
        "!python runSeparator.py --run_all 'Y' --directory './data/' --audio_separation 'WUN' --speech_enhancement 'SS'"
      ],
      "metadata": {
        "id": "0JedFFz4KLms"
      },
      "execution_count": null,
      "outputs": []
    },
    {
      "cell_type": "markdown",
      "source": [
        "**WUN with WF (Wiener Filtering)**\n",
        "\n",
        "**Note**: Output .wav files are in ./WUN/WUNWF/"
      ],
      "metadata": {
        "id": "0395GuBYKHOm"
      }
    },
    {
      "cell_type": "code",
      "source": [
        "!python runSeparator.py --run_all 'Y' --directory './data/' --audio_separation 'WUN' --speech_enhancement 'WF'"
      ],
      "metadata": {
        "id": "pUiY9miaKNDZ"
      },
      "execution_count": null,
      "outputs": []
    },
    {
      "cell_type": "markdown",
      "source": [
        "**WUN without Speech Enhancement**\n",
        "\n",
        "**Note**: Output .wav files are in ./WUN/WUNNone/"
      ],
      "metadata": {
        "id": "bMLN_IubKJde"
      }
    },
    {
      "cell_type": "code",
      "source": [
        "!python runSeparator.py --run_all 'Y' --directory './data/' --audio_separation 'WUN' --speech_enhancement 'None'"
      ],
      "metadata": {
        "id": "YwB3InmPKOME"
      },
      "execution_count": null,
      "outputs": []
    },
    {
      "cell_type": "markdown",
      "source": [
        "# Speech Enhancement Only"
      ],
      "metadata": {
        "id": "F2To3p8pJHUa"
      }
    },
    {
      "cell_type": "markdown",
      "source": [
        "# 1. Spectral Subtraction"
      ],
      "metadata": {
        "id": "vl1guDBpJLlg"
      }
    },
    {
      "cell_type": "markdown",
      "source": [
        "**Note**: Output .wav files are in ./SE/SS/"
      ],
      "metadata": {
        "id": "GdOpul2TRzHC"
      }
    },
    {
      "cell_type": "code",
      "source": [
        "!python runSeparator.py --run_all 'Y' --directory './data/' --audio_separation 'None' --speech_enhancement 'SS'"
      ],
      "metadata": {
        "id": "l6jx5p4QKTn2"
      },
      "execution_count": null,
      "outputs": []
    },
    {
      "cell_type": "markdown",
      "source": [
        "# 2. Wiener Filtering"
      ],
      "metadata": {
        "id": "k_xpL2CzJPTK"
      }
    },
    {
      "cell_type": "markdown",
      "source": [
        "**Note**: Output .wav files are in ./SE/WF/"
      ],
      "metadata": {
        "id": "vi2ELZc9R5as"
      }
    },
    {
      "cell_type": "code",
      "source": [
        "!python runSeparator.py --run_all 'Y' --directory './data/' --audio_separation 'None' --speech_enhancement 'WF'"
      ],
      "metadata": {
        "id": "9-15PEUkKXB_"
      },
      "execution_count": null,
      "outputs": []
    }
  ]
}